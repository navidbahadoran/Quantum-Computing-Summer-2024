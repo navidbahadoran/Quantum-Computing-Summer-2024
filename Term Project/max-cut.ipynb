{
 "cells": [
  {
   "cell_type": "code",
   "execution_count": 9,
   "id": "99af5c3b-683b-4008-9bab-121f2b875a57",
   "metadata": {},
   "outputs": [],
   "source": [
    "import networkx as nx\n",
    "import numpy as np\n",
    "import matplotlib.pyplot as plt\n",
    "from qiskit.quantum_info import Pauli, SparsePauliOp\n",
    "from qiskit.primitives import Sampler"
   ]
  },
  {
   "cell_type": "code",
   "execution_count": 2,
   "id": "3dbc2eea-c495-4287-b866-38ae2b500920",
   "metadata": {},
   "outputs": [],
   "source": [
    "# Function to generate a random graph\n",
    "def generate_random_graph(n):\n",
    "    p = 0.5  # Probability for edge creation, approximately 50% of a fully connected graph\n",
    "    graph = nx.erdos_renyi_graph(n, p)\n",
    "    while len(graph.edges()) < n * (n - 1) / 4:\n",
    "        graph = nx.erdos_renyi_graph(n, p)\n",
    "    for (u, v) in graph.edges():\n",
    "        graph.edges[u, v]['weight'] = np.random.randint(1, 10)\n",
    "    return graph\n",
    "\n",
    "# Function to draw the graph\n",
    "def draw_graph(graph):\n",
    "    pos = nx.spring_layout(graph)\n",
    "    labels = nx.get_edge_attributes(graph, 'weight')\n",
    "    nx.draw(graph, pos, with_labels=True)\n",
    "    nx.draw_networkx_edge_labels(graph, pos, edge_labels=labels)\n",
    "    plt.show()"
   ]
  },
  {
   "cell_type": "code",
   "execution_count": 3,
   "id": "b14ac6db-c60e-4fb7-b8a4-c8b458e96b61",
   "metadata": {},
   "outputs": [],
   "source": [
    "def max_cut_hamiltonian(graph):\n",
    "    \"\"\"Create the Hamiltonian for the Max-Cut problem for the given graph.\"\"\"\n",
    "    n = len(graph.nodes)\n",
    "    pauli_list = []\n",
    "    coeffs = []\n",
    "    for i, j in graph.edges:\n",
    "        z = ['I'] * n\n",
    "        z[i] = 'Z'\n",
    "        z[j] = 'Z'\n",
    "        pauli_list.append(Pauli(''.join(z)))\n",
    "        coeffs.append(0.5*graph.edges[i, j]['weight'])\n",
    "    return SparsePauliOp(pauli_list, coeffs)"
   ]
  },
  {
   "cell_type": "code",
   "execution_count": 4,
   "id": "d73d7a12-a69e-4286-abad-90a28faca747",
   "metadata": {},
   "outputs": [],
   "source": [
    "def extract_partitions_from_bitstring(bitstring, n):\n",
    "    partitions = {'A': [], 'B': []}\n",
    "    for i in range(n):\n",
    "        if bitstring[i] == '0':\n",
    "            partitions['A'].append(i)\n",
    "        else:\n",
    "            partitions['B'].append(i)\n",
    "    return partitions"
   ]
  },
  {
   "cell_type": "code",
   "execution_count": 5,
   "id": "cdd1ae54-e86a-47ee-9cee-1e8fcab83d30",
   "metadata": {},
   "outputs": [],
   "source": [
    "# # Function to solve max-cut using QAOA\n",
    "# def solve_max_cut_qaoa(graph, p=1):\n",
    "\n",
    "#     qubit_op = max_cut_hamiltonian(graph)\n",
    "#     backend = Aer.get_backend('aer_simulator')\n",
    "#     sampler = Sampler()\n",
    "#     qaoa = QAOA(optimizer=COBYLA(maxiter=250), reps=p, sampler=sampler)\n",
    "#     result = qaoa.compute_minimum_eigenvalue(qubit_op)\n",
    "#     eigenstate = result.eigenstate\n",
    "#     eigenstate=dict(eigenstate)\n",
    "#     bitstring=max(eigenstate, key=eigenstate.get)\n",
    "#     # bitstring = eigenstate.argmax()  # Get the most likely bitstring\n",
    "#     bitstring = f'{bitstring:0{len(graph.nodes)}b}'  # Convert to binary string\n",
    "#     partitions = extract_partitions_from_bitstring(bitstring, len(graph.nodes))\n",
    "#     return result.eigenvalue.real, result.eigenstate, partitions,bitstring"
   ]
  },
  {
   "cell_type": "code",
   "execution_count": 5,
   "id": "249f1995-645e-43bd-b38b-fe8cc98f6732",
   "metadata": {},
   "outputs": [],
   "source": [
    "def solve_max_cut_qaoa(graph):\n",
    "\n",
    "    qubit_op = max_cut_hamiltonian(graph)\n",
    "    diag=np.diag(qubit_op.to_matrix())\n",
    "    min_eigenval=np.min(diag)\n",
    "    bitstring=np.argmin(diag)\n",
    "    bitstring = f'{bitstring:0{len(graph.nodes)}b}'  # Convert to binary string\n",
    "    partitions = extract_partitions_from_bitstring(bitstring, len(graph.nodes))\n",
    "    return diag,min_eigenval,partitions,bitstring"
   ]
  },
  {
   "cell_type": "code",
   "execution_count": 6,
   "id": "9674b0bf-5cc5-45bf-ba25-193e06d3d9db",
   "metadata": {},
   "outputs": [],
   "source": [
    "# Function for exhaustive search\n",
    "def exhaustive_search(graph):\n",
    "    n = len(graph.nodes)\n",
    "    max_cut_value = 0\n",
    "    best_cut = None\n",
    "    best_partition = None\n",
    "    for b in range(1 << n):\n",
    "        cut_value = 0\n",
    "        cut_partition = extract_partitions_from_bitstring(f'{b:0{n}b}', n)\n",
    "        for (i, j) in graph.edges:\n",
    "            if ((b >> i) & 1) != ((b >> j) & 1):\n",
    "                cut_value += graph.edges[i, j]['weight']\n",
    "        if cut_value > max_cut_value:\n",
    "            max_cut_value = cut_value\n",
    "            best_cut = b\n",
    "            best_partition = cut_partition\n",
    "    return max_cut_value, best_cut,best_partition"
   ]
  },
  {
   "cell_type": "code",
   "execution_count": 7,
   "id": "758cf045-4688-4655-9b6a-9c4fd2aae90d",
   "metadata": {},
   "outputs": [],
   "source": [
    "def run_experiment(num_graphs=20):\n",
    "    results = []\n",
    "    for _ in range(num_graphs):\n",
    "        n = np.random.randint(7, 11)\n",
    "        graph = generate_random_graph(n)\n",
    "        # draw_graph(graph)\n",
    "        \n",
    "        max_cut_value_classical,_, best_partition_classical = exhaustive_search(graph)\n",
    "        _, max_cut_value_quantum, best_partition_quantum,_ = solve_max_cut_qaoa(graph)\n",
    "\n",
    "        results.append({\n",
    "            'num_nodes': n,\n",
    "            'max_cut_value_classical': max_cut_value_classical,\n",
    "            'partition_classical': best_partition_classical,\n",
    "            'max_cut_value_quantum': max_cut_value_quantum,\n",
    "            'partition_quantum': best_partition_quantum\n",
    "        })\n",
    "        print(f\"Classical Max-Cut: Partition: {best_partition_classical}\")\n",
    "        print(f\"Quantum Max-Cut: Partition: {best_partition_quantum}\")\n"
   ]
  },
  {
   "cell_type": "code",
   "execution_count": 8,
   "id": "2c04da57-3632-4f9b-a87f-0ca17293c443",
   "metadata": {},
   "outputs": [
    {
     "name": "stdout",
     "output_type": "stream",
     "text": [
      "Classical Max-Cut: Partition: {'A': [0, 3, 4, 6, 8], 'B': [1, 2, 5, 7, 9]}\n",
      "Quantum Max-Cut: Partition: {'A': [0, 2, 3, 4, 7, 8], 'B': [1, 5, 6, 9]}\n",
      "Classical Max-Cut: Partition: {'A': [0, 4, 5, 8], 'B': [1, 2, 3, 6, 7]}\n",
      "Quantum Max-Cut: Partition: {'A': [0, 3, 4, 8], 'B': [1, 2, 5, 6, 7]}\n",
      "Classical Max-Cut: Partition: {'A': [0, 4, 5, 7], 'B': [1, 2, 3, 6, 8]}\n",
      "Quantum Max-Cut: Partition: {'A': [0, 2, 5, 6, 7], 'B': [1, 3, 4, 8]}\n",
      "Classical Max-Cut: Partition: {'A': [0, 1, 2, 3, 5], 'B': [4, 6, 7, 8]}\n",
      "Quantum Max-Cut: Partition: {'A': [0, 1, 2, 4], 'B': [3, 5, 6, 7, 8]}\n",
      "Classical Max-Cut: Partition: {'A': [0, 2, 3, 5, 8], 'B': [1, 4, 6, 7]}\n",
      "Quantum Max-Cut: Partition: {'A': [0, 3, 5, 6, 8], 'B': [1, 2, 4, 7]}\n",
      "Classical Max-Cut: Partition: {'A': [0, 3, 4], 'B': [1, 2, 5, 6, 7]}\n",
      "Quantum Max-Cut: Partition: {'A': [0, 1, 2, 5, 6], 'B': [3, 4, 7]}\n",
      "Classical Max-Cut: Partition: {'A': [0, 1, 3, 5], 'B': [2, 4, 6, 7, 8, 9]}\n",
      "Quantum Max-Cut: Partition: {'A': [0, 1, 2, 3, 5, 7], 'B': [4, 6, 8, 9]}\n",
      "Classical Max-Cut: Partition: {'A': [0, 1, 3, 6], 'B': [2, 4, 5, 7]}\n",
      "Quantum Max-Cut: Partition: {'A': [0, 2, 3, 5], 'B': [1, 4, 6, 7]}\n",
      "Classical Max-Cut: Partition: {'A': [0, 2, 3, 4], 'B': [1, 5, 6, 7]}\n",
      "Quantum Max-Cut: Partition: {'A': [0, 1, 2, 6], 'B': [3, 4, 5, 7]}\n",
      "Classical Max-Cut: Partition: {'A': [0, 2, 3, 4, 5, 8], 'B': [1, 6, 7, 9]}\n",
      "Quantum Max-Cut: Partition: {'A': [0, 2, 3, 6, 8], 'B': [1, 4, 5, 7, 9]}\n",
      "Classical Max-Cut: Partition: {'A': [0, 2, 4, 6], 'B': [1, 3, 5]}\n",
      "Quantum Max-Cut: Partition: {'A': [0, 2, 4, 6], 'B': [1, 3, 5]}\n",
      "Classical Max-Cut: Partition: {'A': [0, 3, 5, 6], 'B': [1, 2, 4, 7]}\n",
      "Quantum Max-Cut: Partition: {'A': [0, 3, 5, 6], 'B': [1, 2, 4, 7]}\n",
      "Classical Max-Cut: Partition: {'A': [0, 1, 2, 4, 6, 9], 'B': [3, 5, 7, 8]}\n",
      "Quantum Max-Cut: Partition: {'A': [0, 3, 5, 7, 8, 9], 'B': [1, 2, 4, 6]}\n",
      "Classical Max-Cut: Partition: {'A': [0, 4, 5, 7, 9], 'B': [1, 2, 3, 6, 8]}\n",
      "Quantum Max-Cut: Partition: {'A': [0, 2, 4, 5, 9], 'B': [1, 3, 6, 7, 8]}\n",
      "Classical Max-Cut: Partition: {'A': [0, 3, 5, 6], 'B': [1, 2, 4]}\n",
      "Quantum Max-Cut: Partition: {'A': [0, 1, 3, 6], 'B': [2, 4, 5]}\n",
      "Classical Max-Cut: Partition: {'A': [0, 1, 3, 5], 'B': [2, 4, 6]}\n",
      "Quantum Max-Cut: Partition: {'A': [0, 2, 4], 'B': [1, 3, 5, 6]}\n",
      "Classical Max-Cut: Partition: {'A': [0, 1, 4, 8], 'B': [2, 3, 5, 6, 7, 9]}\n",
      "Quantum Max-Cut: Partition: {'A': [0, 2, 3, 4, 6, 7], 'B': [1, 5, 8, 9]}\n",
      "Classical Max-Cut: Partition: {'A': [0, 1, 3, 5], 'B': [2, 4, 6, 7]}\n",
      "Quantum Max-Cut: Partition: {'A': [0, 1, 2, 3, 5], 'B': [4, 6, 7]}\n",
      "Classical Max-Cut: Partition: {'A': [0, 3, 6, 8], 'B': [1, 2, 4, 5, 7]}\n",
      "Quantum Max-Cut: Partition: {'A': [0, 2, 5, 8], 'B': [1, 3, 4, 6, 7]}\n",
      "Classical Max-Cut: Partition: {'A': [0, 2, 4, 5, 9], 'B': [1, 3, 6, 7, 8]}\n",
      "Quantum Max-Cut: Partition: {'A': [0, 4, 5, 7, 9], 'B': [1, 2, 3, 6, 8]}\n"
     ]
    }
   ],
   "source": [
    "# Running the experiment\n",
    "results = run_experiment()"
   ]
  },
  {
   "cell_type": "code",
   "execution_count": 25,
   "id": "1502ce62-2bcf-4bee-a76b-e14ae894a2fe",
   "metadata": {},
   "outputs": [
    {
     "data": {
      "image/png": "[encoded data removed]",
      "text/plain": [
       "<Figure size 640x480 with 1 Axes>"
      ]
     },
     "metadata": {},
     "output_type": "display_data"
    },
    {
     "data": {
      "text/plain": [
       "SparsePauliOp(['ZZIIII', 'ZIIZII', 'ZIIIZI', 'ZIIIIZ', 'IZIIIZ', 'IIZZII', 'IIZIZI', 'IIIZIZ', 'IIIIZZ'],\n",
       "              coeffs=[2.+0.j, 9.+0.j, 8.+0.j, 3.+0.j, 8.+0.j, 4.+0.j, 6.+0.j, 3.+0.j, 5.+0.j])"
      ]
     },
     "execution_count": 25,
     "metadata": {},
     "output_type": "execute_result"
    }
   ],
   "source": [
    "from qiskit.quantum_info import Pauli, SparsePauliOp\n",
    "\n",
    "def max_cut_hamiltonian(graph):\n",
    "    n = len(graph.nodes)\n",
    "    pauli_list = []\n",
    "    coeffs = []\n",
    "    for i, j in graph.edges:\n",
    "        z = ['I'] * n\n",
    "        z[i] = 'Z'\n",
    "        z[j] = 'Z'\n",
    "        pauli_list.append(Pauli(''.join(z)))\n",
    "        coeffs.append(graph.edges[i, j]['weight'])\n",
    "    return SparsePauliOp(pauli_list, coeffs)\n",
    "\n",
    "n =6#np.random.randint(7, 11)\n",
    "graph = generate_random_graph(n)\n",
    "draw_graph(graph)\n",
    "\n",
    "qubit_op = max_cut_hamiltonian(graph)\n",
    "qubit_op"
   ]
  },
  {
   "cell_type": "code",
   "execution_count": 23,
   "id": "e1af24a1-290c-4b8e-bf3c-1b155e6ef0af",
   "metadata": {},
   "outputs": [
    {
     "data": {
      "text/plain": [
       "(15, 6, {'A': [0, 3], 'B': [1, 2]})"
      ]
     },
     "execution_count": 23,
     "metadata": {},
     "output_type": "execute_result"
    }
   ],
   "source": [
    "exhaustive_search(graph)"
   ]
  },
  {
   "cell_type": "code",
   "execution_count": 26,
   "id": "c1a7b031-8f3e-4393-a6df-f6586526d2c9",
   "metadata": {},
   "outputs": [
    {
     "data": {
      "text/plain": [
       "(array([ 48.+0.j,  10.+0.j,  10.+0.j,  -8.+0.j,  16.+0.j, -10.+0.j,\n",
       "        -22.+0.j, -28.+0.j,  28.+0.j, -10.+0.j,  14.+0.j,  -4.+0.j,\n",
       "         12.+0.j, -14.+0.j,  -2.+0.j,  -8.+0.j,  28.+0.j,  22.+0.j,\n",
       "        -10.+0.j,   4.+0.j,  -4.+0.j,   2.+0.j, -42.+0.j, -16.+0.j,\n",
       "          8.+0.j,   2.+0.j,  -6.+0.j,   8.+0.j,  -8.+0.j,  -2.+0.j,\n",
       "        -22.+0.j,   4.+0.j,   4.+0.j, -22.+0.j,  -2.+0.j,  -8.+0.j,\n",
       "          8.+0.j,  -6.+0.j,   2.+0.j,   8.+0.j, -16.+0.j, -42.+0.j,\n",
       "          2.+0.j,  -4.+0.j,   4.+0.j, -10.+0.j,  22.+0.j,  28.+0.j,\n",
       "         -8.+0.j,  -2.+0.j, -14.+0.j,  12.+0.j,  -4.+0.j,  14.+0.j,\n",
       "        -10.+0.j,  28.+0.j, -28.+0.j, -22.+0.j, -10.+0.j,  16.+0.j,\n",
       "         -8.+0.j,  10.+0.j,  10.+0.j,  48.+0.j]),\n",
       " (-42+0j),\n",
       " {'A': [0, 2, 5], 'B': [1, 3, 4]},\n",
       " '010110')"
      ]
     },
     "execution_count": 26,
     "metadata": {},
     "output_type": "execute_result"
    }
   ],
   "source": [
    "solve_max_cut_qaoa(graph)"
   ]
  }
 ],
 "metadata": {
  "kernelspec": {
   "display_name": "Python 3 (ipykernel)",
   "language": "python",
   "name": "python3"
  },
  "language_info": {
   "codemirror_mode": {
    "name": "ipython",
    "version": 3
   },
   "file_extension": ".py",
   "mimetype": "text/x-python",
   "name": "python",
   "nbconvert_exporter": "python",
   "pygments_lexer": "ipython3",
   "version": "3.11.0"
  }
 },
 "nbformat": 4,
 "nbformat_minor": 5
}
